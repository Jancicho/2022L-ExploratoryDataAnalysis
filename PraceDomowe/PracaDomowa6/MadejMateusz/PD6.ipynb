{
 "cells": [
  {
   "cell_type": "markdown",
   "id": "7ee12792",
   "metadata": {},
   "source": [
    "# Praca domowa 6\n",
    "**Mateusz Madej 313496**"
   ]
  },
  {
   "cell_type": "markdown",
   "id": "029f15b0",
   "metadata": {},
   "source": [
    "## Wczytanie odpowiednich bibliotek i ramki danych:"
   ]
  },
  {
   "cell_type": "code",
   "execution_count": 8,
   "id": "00161439",
   "metadata": {},
   "outputs": [
    {
     "data": {
      "text/html": [
       "<div>\n",
       "<style scoped>\n",
       "    .dataframe tbody tr th:only-of-type {\n",
       "        vertical-align: middle;\n",
       "    }\n",
       "\n",
       "    .dataframe tbody tr th {\n",
       "        vertical-align: top;\n",
       "    }\n",
       "\n",
       "    .dataframe thead th {\n",
       "        text-align: right;\n",
       "    }\n",
       "</style>\n",
       "<table border=\"1\" class=\"dataframe\">\n",
       "  <thead>\n",
       "    <tr style=\"text-align: right;\">\n",
       "      <th></th>\n",
       "      <th>class</th>\n",
       "      <th>cap-shape</th>\n",
       "      <th>cap-surface</th>\n",
       "      <th>cap-color</th>\n",
       "      <th>bruises</th>\n",
       "      <th>odor</th>\n",
       "      <th>gill-attachment</th>\n",
       "      <th>gill-spacing</th>\n",
       "      <th>gill-size</th>\n",
       "      <th>gill-color</th>\n",
       "      <th>...</th>\n",
       "      <th>stalk-surface-below-ring</th>\n",
       "      <th>stalk-color-above-ring</th>\n",
       "      <th>stalk-color-below-ring</th>\n",
       "      <th>veil-type</th>\n",
       "      <th>veil-color</th>\n",
       "      <th>ring-number</th>\n",
       "      <th>ring-type</th>\n",
       "      <th>spore-print-color</th>\n",
       "      <th>population</th>\n",
       "      <th>habitat</th>\n",
       "    </tr>\n",
       "  </thead>\n",
       "  <tbody>\n",
       "    <tr>\n",
       "      <th>0</th>\n",
       "      <td>p</td>\n",
       "      <td>x</td>\n",
       "      <td>s</td>\n",
       "      <td>n</td>\n",
       "      <td>t</td>\n",
       "      <td>p</td>\n",
       "      <td>f</td>\n",
       "      <td>c</td>\n",
       "      <td>n</td>\n",
       "      <td>k</td>\n",
       "      <td>...</td>\n",
       "      <td>s</td>\n",
       "      <td>w</td>\n",
       "      <td>w</td>\n",
       "      <td>p</td>\n",
       "      <td>w</td>\n",
       "      <td>o</td>\n",
       "      <td>p</td>\n",
       "      <td>k</td>\n",
       "      <td>s</td>\n",
       "      <td>u</td>\n",
       "    </tr>\n",
       "    <tr>\n",
       "      <th>1</th>\n",
       "      <td>e</td>\n",
       "      <td>x</td>\n",
       "      <td>s</td>\n",
       "      <td>y</td>\n",
       "      <td>t</td>\n",
       "      <td>a</td>\n",
       "      <td>f</td>\n",
       "      <td>c</td>\n",
       "      <td>b</td>\n",
       "      <td>k</td>\n",
       "      <td>...</td>\n",
       "      <td>s</td>\n",
       "      <td>w</td>\n",
       "      <td>w</td>\n",
       "      <td>p</td>\n",
       "      <td>w</td>\n",
       "      <td>o</td>\n",
       "      <td>p</td>\n",
       "      <td>n</td>\n",
       "      <td>n</td>\n",
       "      <td>g</td>\n",
       "    </tr>\n",
       "    <tr>\n",
       "      <th>2</th>\n",
       "      <td>e</td>\n",
       "      <td>b</td>\n",
       "      <td>s</td>\n",
       "      <td>w</td>\n",
       "      <td>t</td>\n",
       "      <td>l</td>\n",
       "      <td>f</td>\n",
       "      <td>c</td>\n",
       "      <td>b</td>\n",
       "      <td>n</td>\n",
       "      <td>...</td>\n",
       "      <td>s</td>\n",
       "      <td>w</td>\n",
       "      <td>w</td>\n",
       "      <td>p</td>\n",
       "      <td>w</td>\n",
       "      <td>o</td>\n",
       "      <td>p</td>\n",
       "      <td>n</td>\n",
       "      <td>n</td>\n",
       "      <td>m</td>\n",
       "    </tr>\n",
       "    <tr>\n",
       "      <th>3</th>\n",
       "      <td>p</td>\n",
       "      <td>x</td>\n",
       "      <td>y</td>\n",
       "      <td>w</td>\n",
       "      <td>t</td>\n",
       "      <td>p</td>\n",
       "      <td>f</td>\n",
       "      <td>c</td>\n",
       "      <td>n</td>\n",
       "      <td>n</td>\n",
       "      <td>...</td>\n",
       "      <td>s</td>\n",
       "      <td>w</td>\n",
       "      <td>w</td>\n",
       "      <td>p</td>\n",
       "      <td>w</td>\n",
       "      <td>o</td>\n",
       "      <td>p</td>\n",
       "      <td>k</td>\n",
       "      <td>s</td>\n",
       "      <td>u</td>\n",
       "    </tr>\n",
       "    <tr>\n",
       "      <th>4</th>\n",
       "      <td>e</td>\n",
       "      <td>x</td>\n",
       "      <td>s</td>\n",
       "      <td>g</td>\n",
       "      <td>f</td>\n",
       "      <td>n</td>\n",
       "      <td>f</td>\n",
       "      <td>w</td>\n",
       "      <td>b</td>\n",
       "      <td>k</td>\n",
       "      <td>...</td>\n",
       "      <td>s</td>\n",
       "      <td>w</td>\n",
       "      <td>w</td>\n",
       "      <td>p</td>\n",
       "      <td>w</td>\n",
       "      <td>o</td>\n",
       "      <td>e</td>\n",
       "      <td>n</td>\n",
       "      <td>a</td>\n",
       "      <td>g</td>\n",
       "    </tr>\n",
       "  </tbody>\n",
       "</table>\n",
       "<p>5 rows × 23 columns</p>\n",
       "</div>"
      ],
      "text/plain": [
       "  class cap-shape cap-surface cap-color bruises odor gill-attachment  \\\n",
       "0     p         x           s         n       t    p               f   \n",
       "1     e         x           s         y       t    a               f   \n",
       "2     e         b           s         w       t    l               f   \n",
       "3     p         x           y         w       t    p               f   \n",
       "4     e         x           s         g       f    n               f   \n",
       "\n",
       "  gill-spacing gill-size gill-color  ... stalk-surface-below-ring  \\\n",
       "0            c         n          k  ...                        s   \n",
       "1            c         b          k  ...                        s   \n",
       "2            c         b          n  ...                        s   \n",
       "3            c         n          n  ...                        s   \n",
       "4            w         b          k  ...                        s   \n",
       "\n",
       "  stalk-color-above-ring stalk-color-below-ring veil-type veil-color  \\\n",
       "0                      w                      w         p          w   \n",
       "1                      w                      w         p          w   \n",
       "2                      w                      w         p          w   \n",
       "3                      w                      w         p          w   \n",
       "4                      w                      w         p          w   \n",
       "\n",
       "  ring-number ring-type spore-print-color population habitat  \n",
       "0           o         p                 k          s       u  \n",
       "1           o         p                 n          n       g  \n",
       "2           o         p                 n          n       m  \n",
       "3           o         p                 k          s       u  \n",
       "4           o         e                 n          a       g  \n",
       "\n",
       "[5 rows x 23 columns]"
      ]
     },
     "execution_count": 8,
     "metadata": {},
     "output_type": "execute_result"
    }
   ],
   "source": [
    "import seaborn as sns\n",
    "import matplotlib.pyplot as plt\n",
    "import numpy as np\n",
    "import pandas as pd\n",
    "df = pd.read_csv('mushrooms.csv')\n",
    "df.head()"
   ]
  },
  {
   "cell_type": "markdown",
   "id": "0af00155",
   "metadata": {},
   "source": [
    "## Wstęp i opis danych: \n",
    "W mojej pracy domowej zajmę się analizą ramki danych mushrooms ze strony https://www.kaggle.com/datasets/uciml/mushroom-classification?resource=download. \n",
    "Zbiór ten opisuje hipotetyczne próbki 23 gatunków grzybów blaszkowych. Oprócz opisów parametrów, każdy gatunek został sklasyfikowany jako jadalnylub trujący.\n",
    "Ramka danych opisuje 8124 próbki o 23 właściwościach opisywanych kolejnymi kolumnami:\n",
    "- class - jadalne/niejadalne\n",
    "- cap-shape - kształt kapelusza\n",
    "- cap-surface - tekstura powierzchni kapelusza\n",
    "- cap-color - kolor kapelusza\n",
    "- bruises - obecność siniaków\n",
    "- odor - zapach\n",
    "- gill-attachment - typ mocowania blaszki\n",
    "- gill-spacing - odległość między blaszkami\n",
    "- gill-size - wielkość blaszki\n",
    "- gill-color - kolor blaszki\n",
    "- stalk-shape - krztałt trzona\n",
    "- stalk-root - typ korzenia\n",
    "- stalk-surface-above-ring - typ powierzchni trzonu nad pierścieniem\n",
    "- stalk-surface-below-ring - typ powierzchni trzonu pod pierścieniem\n",
    "- veil-type - typ pochwy\n",
    "- veil-color - kolor pochwy\n",
    "- ring-number - liczba pierścieni\n",
    "- ring-type - typ pierścienia\n",
    "- spore-print-color - kolor zarodników\n",
    "- population - liczność występowania\n",
    "- habitat - miejsce występowania\n",
    "\n",
    "\n"
   ]
  },
  {
   "cell_type": "markdown",
   "id": "c4f75ad7",
   "metadata": {},
   "source": [
    "   ## Tablica ze statystykami ramki:"
   ]
  },
  {
   "cell_type": "code",
   "execution_count": 9,
   "id": "a8bb3a22",
   "metadata": {
    "scrolled": true
   },
   "outputs": [
    {
     "data": {
      "text/html": [
       "<div>\n",
       "<style scoped>\n",
       "    .dataframe tbody tr th:only-of-type {\n",
       "        vertical-align: middle;\n",
       "    }\n",
       "\n",
       "    .dataframe tbody tr th {\n",
       "        vertical-align: top;\n",
       "    }\n",
       "\n",
       "    .dataframe thead th {\n",
       "        text-align: right;\n",
       "    }\n",
       "</style>\n",
       "<table border=\"1\" class=\"dataframe\">\n",
       "  <thead>\n",
       "    <tr style=\"text-align: right;\">\n",
       "      <th></th>\n",
       "      <th>class</th>\n",
       "      <th>cap-shape</th>\n",
       "      <th>cap-surface</th>\n",
       "      <th>cap-color</th>\n",
       "      <th>bruises</th>\n",
       "      <th>odor</th>\n",
       "      <th>gill-attachment</th>\n",
       "      <th>gill-spacing</th>\n",
       "      <th>gill-size</th>\n",
       "      <th>gill-color</th>\n",
       "      <th>...</th>\n",
       "      <th>stalk-surface-below-ring</th>\n",
       "      <th>stalk-color-above-ring</th>\n",
       "      <th>stalk-color-below-ring</th>\n",
       "      <th>veil-type</th>\n",
       "      <th>veil-color</th>\n",
       "      <th>ring-number</th>\n",
       "      <th>ring-type</th>\n",
       "      <th>spore-print-color</th>\n",
       "      <th>population</th>\n",
       "      <th>habitat</th>\n",
       "    </tr>\n",
       "  </thead>\n",
       "  <tbody>\n",
       "    <tr>\n",
       "      <th>count</th>\n",
       "      <td>8124</td>\n",
       "      <td>8124</td>\n",
       "      <td>8124</td>\n",
       "      <td>8124</td>\n",
       "      <td>8124</td>\n",
       "      <td>8124</td>\n",
       "      <td>8124</td>\n",
       "      <td>8124</td>\n",
       "      <td>8124</td>\n",
       "      <td>8124</td>\n",
       "      <td>...</td>\n",
       "      <td>8124</td>\n",
       "      <td>8124</td>\n",
       "      <td>8124</td>\n",
       "      <td>8124</td>\n",
       "      <td>8124</td>\n",
       "      <td>8124</td>\n",
       "      <td>8124</td>\n",
       "      <td>8124</td>\n",
       "      <td>8124</td>\n",
       "      <td>8124</td>\n",
       "    </tr>\n",
       "    <tr>\n",
       "      <th>unique</th>\n",
       "      <td>2</td>\n",
       "      <td>6</td>\n",
       "      <td>4</td>\n",
       "      <td>10</td>\n",
       "      <td>2</td>\n",
       "      <td>9</td>\n",
       "      <td>2</td>\n",
       "      <td>2</td>\n",
       "      <td>2</td>\n",
       "      <td>12</td>\n",
       "      <td>...</td>\n",
       "      <td>4</td>\n",
       "      <td>9</td>\n",
       "      <td>9</td>\n",
       "      <td>1</td>\n",
       "      <td>4</td>\n",
       "      <td>3</td>\n",
       "      <td>5</td>\n",
       "      <td>9</td>\n",
       "      <td>6</td>\n",
       "      <td>7</td>\n",
       "    </tr>\n",
       "    <tr>\n",
       "      <th>top</th>\n",
       "      <td>e</td>\n",
       "      <td>x</td>\n",
       "      <td>y</td>\n",
       "      <td>n</td>\n",
       "      <td>f</td>\n",
       "      <td>n</td>\n",
       "      <td>f</td>\n",
       "      <td>c</td>\n",
       "      <td>b</td>\n",
       "      <td>b</td>\n",
       "      <td>...</td>\n",
       "      <td>s</td>\n",
       "      <td>w</td>\n",
       "      <td>w</td>\n",
       "      <td>p</td>\n",
       "      <td>w</td>\n",
       "      <td>o</td>\n",
       "      <td>p</td>\n",
       "      <td>w</td>\n",
       "      <td>v</td>\n",
       "      <td>d</td>\n",
       "    </tr>\n",
       "    <tr>\n",
       "      <th>freq</th>\n",
       "      <td>4208</td>\n",
       "      <td>3656</td>\n",
       "      <td>3244</td>\n",
       "      <td>2284</td>\n",
       "      <td>4748</td>\n",
       "      <td>3528</td>\n",
       "      <td>7914</td>\n",
       "      <td>6812</td>\n",
       "      <td>5612</td>\n",
       "      <td>1728</td>\n",
       "      <td>...</td>\n",
       "      <td>4936</td>\n",
       "      <td>4464</td>\n",
       "      <td>4384</td>\n",
       "      <td>8124</td>\n",
       "      <td>7924</td>\n",
       "      <td>7488</td>\n",
       "      <td>3968</td>\n",
       "      <td>2388</td>\n",
       "      <td>4040</td>\n",
       "      <td>3148</td>\n",
       "    </tr>\n",
       "  </tbody>\n",
       "</table>\n",
       "<p>4 rows × 23 columns</p>\n",
       "</div>"
      ],
      "text/plain": [
       "       class cap-shape cap-surface cap-color bruises  odor gill-attachment  \\\n",
       "count   8124      8124        8124      8124    8124  8124            8124   \n",
       "unique     2         6           4        10       2     9               2   \n",
       "top        e         x           y         n       f     n               f   \n",
       "freq    4208      3656        3244      2284    4748  3528            7914   \n",
       "\n",
       "       gill-spacing gill-size gill-color  ... stalk-surface-below-ring  \\\n",
       "count          8124      8124       8124  ...                     8124   \n",
       "unique            2         2         12  ...                        4   \n",
       "top               c         b          b  ...                        s   \n",
       "freq           6812      5612       1728  ...                     4936   \n",
       "\n",
       "       stalk-color-above-ring stalk-color-below-ring veil-type veil-color  \\\n",
       "count                    8124                   8124      8124       8124   \n",
       "unique                      9                      9         1          4   \n",
       "top                         w                      w         p          w   \n",
       "freq                     4464                   4384      8124       7924   \n",
       "\n",
       "       ring-number ring-type spore-print-color population habitat  \n",
       "count         8124      8124              8124       8124    8124  \n",
       "unique           3         5                 9          6       7  \n",
       "top              o         p                 w          v       d  \n",
       "freq          7488      3968              2388       4040    3148  \n",
       "\n",
       "[4 rows x 23 columns]"
      ]
     },
     "execution_count": 9,
     "metadata": {},
     "output_type": "execute_result"
    }
   ],
   "source": [
    "df.describe()"
   ]
  },
  {
   "cell_type": "markdown",
   "id": "2f850fa8",
   "metadata": {},
   "source": [
    "## Badanie rozkładów wybranych zmiennych"
   ]
  },
  {
   "cell_type": "markdown",
   "id": "d36b9927",
   "metadata": {},
   "source": [
    "### Badanie rozkładu zmiennej class: <br/>\n",
    "   "
   ]
  },
  {
   "cell_type": "code",
   "execution_count": 39,
   "id": "850e9426",
   "metadata": {},
   "outputs": [
    {
     "data": {
      "image/png": "[encoded data removed]",
      "text/plain": [
       "<Figure size 432x288 with 1 Axes>"
      ]
     },
     "metadata": {
      "needs_background": "light"
     },
     "output_type": "display_data"
    }
   ],
   "source": [
    "sns.countplot(data = df, x = df['class'], color = \"blue\")\n",
    "plt.xlabel('p - grzyby trujące, e - grzyby jadalne')\n",
    "plt.ylabel('liczba grzybów w próbce')\n",
    "plt.title(\"Rozkład zmiennej 'class'\", loc = \"Center\")\n",
    "plt.show()"
   ]
  },
  {
   "cell_type": "markdown",
   "id": "7aa86b1b",
   "metadata": {},
   "source": [
    " Zauważmy, że grzybów jadalnych w naszej próbce jest minimalnie więcej niż grzybów trujących, ale generalnie jest ich porównywalna ilość.\n",
    " \n"
   ]
  },
  {
   "cell_type": "markdown",
   "id": "306cd569",
   "metadata": {},
   "source": [
    "### Badanie rozkładu zmiennej cap-color: <br/>\n",
    "    Legenda kolorów:\n",
    "    n - brown,\n",
    "    b - buff,\n",
    "    c - cinnamon,\n",
    "    g - gray,\n",
    "    r - green,\n",
    "    p - pink,\n",
    "    u - purple,\n",
    "    e - red,\n",
    "    w - white,\n",
    "    y - yellow\n",
    "    \n",
    "    \n",
    " "
   ]
  },
  {
   "cell_type": "code",
   "execution_count": 78,
   "id": "c786c400",
   "metadata": {},
   "outputs": [
    {
     "data": {
      "image/png": "[encoded data removed]",
      "text/plain": [
       "<Figure size 432x288 with 1 Axes>"
      ]
     },
     "metadata": {
      "needs_background": "light"
     },
     "output_type": "display_data"
    }
   ],
   "source": [
    "sns.countplot(data = df, x = df['cap-color'], color = \"blue\", order = \"ngeywbpcur\")\n",
    "plt.xlabel('kolor kapelusza')\n",
    "plt.ylabel('liczba grzybów w próbce')\n",
    "plt.title(\"Rozkład zmiennej 'cap-color'\", loc = \"Center\")\n",
    "plt.show()"
   ]
  },
  {
   "cell_type": "markdown",
   "id": "d53b7647",
   "metadata": {},
   "source": [
    "Zauważmy, że zdecydowana większość grzybów w próbce ma kapelusze koloru bronzowego, szarego, czerwonego, żółtego, lub białego."
   ]
  },
  {
   "cell_type": "markdown",
   "id": "a955fc04",
   "metadata": {},
   "source": [
    "### Badanie rozkładu zmiennej habitat:\n",
    "    Legenda oznaczeń:\n",
    "    g - grasses,\n",
    "    l - leaves,\n",
    "    m - meadows,\n",
    "    p - paths,\n",
    "    u - urban,\n",
    "    w - waste,\n",
    "    d - woods\n",
    "    "
   ]
  },
  {
   "cell_type": "code",
   "execution_count": 46,
   "id": "21080d89",
   "metadata": {},
   "outputs": [
    {
     "data": {
      "image/png": "[encoded data removed]",
      "text/plain": [
       "<Figure size 432x288 with 1 Axes>"
      ]
     },
     "metadata": {
      "needs_background": "light"
     },
     "output_type": "display_data"
    }
   ],
   "source": [
    "sns.countplot(data = df, x = df['habitat'], color = \"blue\", order = \"dgplumw\")\n",
    "plt.xlabel('miejsce występowania')\n",
    "plt.ylabel('liczba grzybów w próbce')\n",
    "plt.title(\"Rozkład zmiennej 'habitat'\", loc = \"Center\")\n",
    "plt.show()"
   ]
  },
  {
   "cell_type": "markdown",
   "id": "c8f4cd41",
   "metadata": {},
   "source": [
    "Najwięcej grzybów z naszej próbki występuje w lasach i trawach."
   ]
  },
  {
   "cell_type": "markdown",
   "id": "ab29a992",
   "metadata": {},
   "source": [
    "## Zależności między zmiennymi"
   ]
  },
  {
   "cell_type": "markdown",
   "id": "150949b4",
   "metadata": {},
   "source": [
    "### Zależność między kolorem kapelusza a clasą (jadalny/trujący)\n",
    "    Legenda kolorów:\n",
    "    n - brown,\n",
    "    b - buff,\n",
    "    c - cinnamon,\n",
    "    g - gray,\n",
    "    r - green,\n",
    "    p - pink,\n",
    "    u - purple,\n",
    "    e - red,\n",
    "    w - white,\n",
    "    y - yellow"
   ]
  },
  {
   "cell_type": "code",
   "execution_count": 82,
   "id": "dc0d30ed",
   "metadata": {},
   "outputs": [
    {
     "data": {
      "image/png": "[encoded data removed]",
      "text/plain": [
       "<Figure size 432x288 with 1 Axes>"
      ]
     },
     "metadata": {
      "needs_background": "light"
     },
     "output_type": "display_data"
    }
   ],
   "source": [
    "sns.countplot(data = df, x = df['cap-color'],order = \"ngeywbpcur\", hue = df[\"class\"], palette = [\"red\",\"Lightgreen\"])\n",
    "plt.xlabel('kolor kapelusza')\n",
    "plt.ylabel('liczba grzybów w próbce')\n",
    "plt.title(\"Zależność między kolorem kapelusza a jadalnością'\", loc = \"Center\")\n",
    "plt.show()"
   ]
  },
  {
   "cell_type": "markdown",
   "id": "e47f8387",
   "metadata": {},
   "source": [
    "Możemy zauważyć, że kolor kapelusza jest dosyć słabą poszlaką w rozróżnianiu jadalności grzybów, aczkolwiek np wśród grzybów o białych kapeluszach było dwa razy więcej jadalnych niż trujących, a wśród grzybów o żółtych kapeluszach grzybów trujących było o ok połowę więcej niż jadalnych."
   ]
  },
  {
   "cell_type": "markdown",
   "id": "e53e9a3c",
   "metadata": {},
   "source": [
    "## Zależność między zapachem, a jadalnością grzyba\n",
    "    Legenda oznaczeń zapachów:\n",
    "    a - almond,\n",
    "    l - anise,\n",
    "    c - creosote,\n",
    "    y - fishy,\n",
    "    f - foul,\n",
    "    m - musty,\n",
    "    p - pungent,\n",
    "    s - spicy,\n",
    "    n - none"
   ]
  },
  {
   "cell_type": "code",
   "execution_count": 80,
   "id": "0a391910",
   "metadata": {},
   "outputs": [
    {
     "data": {
      "image/png": "[encoded data removed]",
      "text/plain": [
       "<Figure size 432x288 with 1 Axes>"
      ]
     },
     "metadata": {
      "needs_background": "light"
     },
     "output_type": "display_data"
    }
   ],
   "source": [
    "sns.countplot(data = df, x = df['odor'], hue = df[\"class\"], palette = [\"red\",\"Lightgreen\"])\n",
    "plt.xlabel('zapach')\n",
    "plt.ylabel('liczba grzybów w próbce')\n",
    "plt.title(\"Zależność między zapachem grzyba a jadalnością'\", loc = \"Center\")\n",
    "plt.show()"
   ]
  },
  {
   "cell_type": "markdown",
   "id": "e0a8ed45",
   "metadata": {},
   "source": [
    "Z naszych danych wynika że sugerowanie się zapachem przy rozróżnianiu grzybów jadalnych i trujących może być całkiem niezłym pomysłem. Zapachy almond, anise lub całkowity brak zapachu są typowe dla grzybów jadalnych, a reszta z opisanych jest typowa dla grzybów trujących."
   ]
  },
  {
   "cell_type": "markdown",
   "id": "d4e447f7",
   "metadata": {},
   "source": [
    "## Podsumowanie\n",
    "    - w naszej próbce mieliśmy porównywalną liczbę grzybów trujących i jadalnych\n",
    "    - kolor kapelusza jest słabym kryterium przy rozróżnianiu jadalności grzybów\n",
    "    - za to ich zapach okazuje się bardzo dobrym kryterium"
   ]
  },
  {
   "cell_type": "markdown",
   "id": "2bde4177",
   "metadata": {},
   "source": [
    "## Wnioski o danych (z przymrużeniem oka ;p)\n",
    "    - Dane jakościowe są o wiele trudniejsze w analizie i wizualizacji od danych liczbowych\n",
    "    - Tłumaczenie specjalistycznych nazw takich jak zapachy, czy inne parametry budowy grzyba na język polski bez zaplecza  merytorycznego jest dość trudnym zadaniem\n",
    "    "
   ]
  }
 ],
 "metadata": {
  "kernelspec": {
   "display_name": "Python 3 (ipykernel)",
   "language": "python",
   "name": "python3"
  },
  "language_info": {
   "codemirror_mode": {
    "name": "ipython",
    "version": 3
   },
   "file_extension": ".py",
   "mimetype": "text/x-python",
   "name": "python",
   "nbconvert_exporter": "python",
   "pygments_lexer": "ipython3",
   "version": "3.9.12"
  }
 },
 "nbformat": 4,
 "nbformat_minor": 5
}
